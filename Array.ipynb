{
 "cells": [
  {
   "cell_type": "code",
   "execution_count": 6,
   "metadata": {},
   "outputs": [
    {
     "name": "stdout",
     "output_type": "stream",
     "text": [
      "largest arr is 23\n"
     ]
    }
   ],
   "source": [
    "`# program to find maximum in arr of size n\n",
    "\n",
    "def largest(arr, n):\n",
    "    max = arr[0]\n",
    "    for i in range(1, n):\n",
    "        if arr[i] > max:\n",
    "            max = arr[i]\n",
    "        return arr[i]\n",
    "    \n",
    "n = len(arr)\n",
    "arr = [10, 23, 34, 33]\n",
    "ans = largest(arr, n)\n",
    "print(\"largest arr is\", ans)"
   ]
  },
  {
   "cell_type": "code",
   "execution_count": 9,
   "metadata": {},
   "outputs": [
    {
     "name": "stdout",
     "output_type": "stream",
     "text": [
      "4 5 6 7 1 2 3 "
     ]
    }
   ],
   "source": [
    "def leftRotate(arr, d, n): \n",
    "    for i in range(d): \n",
    "        leftRotatebyOne(arr, n) \n",
    "  \n",
    "#Function to left Rotate arr[] of size n by 1*/  \n",
    "def leftRotatebyOne(arr, n): \n",
    "    temp = arr[0] \n",
    "    for i in range(n-1): \n",
    "        arr[i] = arr[i+1] \n",
    "    arr[n-1] = temp \n",
    "          \n",
    "  \n",
    "# utility function to print an array */ \n",
    "def printArray(arr,size): \n",
    "    for i in range(size): \n",
    "        print(arr[i], end=\" \") \n",
    "  \n",
    "   \n",
    "# Driver program to test above functions */ \n",
    "arr = [1, 2, 3, 4, 5, 6, 7] \n",
    "leftRotate(arr, 3, 7) \n",
    "printArray(arr, 7) "
   ]
  },
  {
   "cell_type": "code",
   "execution_count": 15,
   "metadata": {},
   "outputs": [
    {
     "name": "stdout",
     "output_type": "stream",
     "text": [
      "3 4 5 6 7 1 2 "
     ]
    }
   ],
   "source": [
    "def leftRotate(arr, d, n):\n",
    "    for i in range(gcd( d, n)):\n",
    "        \n",
    "        \n",
    "        temp = arr[i]\n",
    "        j = i\n",
    "        while 1:\n",
    "            k = j + d\n",
    "            if k >= n:\n",
    "                k = k - n\n",
    "            if k == i:\n",
    "                break\n",
    "            arr[j] = arr[k]\n",
    "            j = k\n",
    "        arr[j] = temp\n",
    "    \n",
    "def printArray(arr, size):\n",
    "    for i in range(size):\n",
    "        print(arr[i], end = \" \")\n",
    "    \n",
    "def gcd(a, b):\n",
    "    if b == 0:\n",
    "        return a\n",
    "    else:\n",
    "        return gcd(b, a % b)\n",
    "    \n",
    "arr = [1, 2, 3, 4, 5, 6, 7]\n",
    "leftRotate(arr, 2, 7)\n",
    "printArray(arr, 7)"
   ]
  },
  {
   "cell_type": "code",
   "execution_count": 16,
   "metadata": {},
   "outputs": [
    {
     "name": "stdout",
     "output_type": "stream",
     "text": [
      "5 6 52 36 12 10 "
     ]
    }
   ],
   "source": [
    "#program to split the array\n",
    "\n",
    "def splitArr(arr, n, k):\n",
    "    for i in range(0, k):\n",
    "        x = arr[0]\n",
    "        for j in range(0, n - 1):\n",
    "            arr[j] = arr[j + 1]\n",
    "        \n",
    "        arr[n - 1] = x\n",
    "        \n",
    "arr = [12, 10, 5, 6, 52, 36]\n",
    "n = len(arr)\n",
    "k = 2\n",
    "\n",
    "splitArr(arr, n, k)\n",
    "for i in range(0, n):\n",
    "    print(arr[i], end = \" \")"
   ]
  },
  {
   "cell_type": "code",
   "execution_count": 19,
   "metadata": {},
   "outputs": [
    {
     "name": "stdout",
     "output_type": "stream",
     "text": [
      "9\n"
     ]
    }
   ],
   "source": [
    "#  Program for Find reminder of array multiplication divided by n\n",
    "\n",
    "def findRemainder(arr, length, n):\n",
    "    mul = 1\n",
    "    for i in range(length):\n",
    "        mul = (mul * (arr[i] % n)) % n\n",
    "        \n",
    "    return mul \n",
    "\n",
    "arr = [100, 10, 5, 25, 35, 14]\n",
    "length = len(arr)\n",
    "n = 11\n",
    "\n",
    "print(findRemainder(arr, length, n))\n",
    "\n"
   ]
  },
  {
   "cell_type": "code",
   "execution_count": 22,
   "metadata": {},
   "outputs": [
    {
     "name": "stdout",
     "output_type": "stream",
     "text": [
      "[5, 6, 0, 1, 2, 3]\n"
     ]
    }
   ],
   "source": [
    "# Reconstruct the array by replacing arr[i] with (arr[i-1]+1) % M\n",
    "\n",
    "def construct(n, m, a):\n",
    "    ind = 0\n",
    "    \n",
    "    #finding the index which is not -1\n",
    "    for i in range(n):\n",
    "        if (a[i] != -1):\n",
    "            ind = i\n",
    "            break\n",
    "            \n",
    "    #calculating the value of indexes ind-1 to 0\n",
    "    for i in range(ind - 1, -1, -1):\n",
    "        if(a[i] == -1):\n",
    "            a[i] = (a[i + 1] - 1) % m\n",
    "\n",
    "    for i in range(ind + 1, n):\n",
    "        if(a[i] == -1):\n",
    "            a[i] = (a[i - 1] + 1) % m\n",
    "    print(a)\n",
    "            \n",
    "n, m = 6, 7\n",
    "a = [5, -1, -1, 1, 2, 3]\n",
    "construct(n, m, a)"
   ]
  },
  {
   "cell_type": "code",
   "execution_count": 24,
   "metadata": {},
   "outputs": [
    {
     "name": "stdout",
     "output_type": "stream",
     "text": [
      "True\n"
     ]
    }
   ],
   "source": [
    "# Python Program to check if given array is Monotonic\n",
    "\n",
    "def isMonotonic(A):\n",
    "    \n",
    "    return (all(A[i] <= A[i + 1] for i in range(len(A) - 1)) or\n",
    "           all(A[i] >= A[i + 1] for i in range(len(A) - 1)))\n",
    "\n",
    "A = [6, 5, 4, 4]\n",
    "\n",
    "print(isMonotonic(A))\n"
   ]
  },
  {
   "cell_type": "code",
   "execution_count": null,
   "metadata": {},
   "outputs": [],
   "source": [
    "return (all(A[i] >= A[i + 1] for i in range(len(A)- 1)) or\n",
    "       all)"
   ]
  }
 ],
 "metadata": {
  "kernelspec": {
   "display_name": "Python 3",
   "language": "python",
   "name": "python3"
  },
  "language_info": {
   "codemirror_mode": {
    "name": "ipython",
    "version": 3
   },
   "file_extension": ".py",
   "mimetype": "text/x-python",
   "name": "python",
   "nbconvert_exporter": "python",
   "pygments_lexer": "ipython3",
   "version": "3.6.8"
  }
 },
 "nbformat": 4,
 "nbformat_minor": 2
}
