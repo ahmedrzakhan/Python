{
 "cells": [
  {
   "cell_type": "code",
   "execution_count": 1,
   "metadata": {},
   "outputs": [
    {
     "name": "stdout",
     "output_type": "stream",
     "text": [
      "sum of 10 and 4 is 14\n"
     ]
    }
   ],
   "source": [
    "# python program to add two numbers\n",
    "\n",
    "a = 10\n",
    "b = 4\n",
    "sum = a + b\n",
    "print(\"sum of {0} and {1} is {2}\".format(a, b, sum))\n"
   ]
  },
  {
   "cell_type": "code",
   "execution_count": 4,
   "metadata": {},
   "outputs": [
    {
     "name": "stdin",
     "output_type": "stream",
     "text": [
      "first number 3\n",
      "second number 3\n"
     ]
    },
    {
     "name": "stdout",
     "output_type": "stream",
     "text": [
      "the sum of 3 and 3 is 6.0\n"
     ]
    }
   ],
   "source": [
    "# add two numbers with user input\n",
    "number1 = input(\"first number\")\n",
    "number2 = input(\"second number\")\n",
    "\n",
    "sum = float(number1) + float(number2)\n",
    "\n",
    "print(\"the sum of {0} and {1} is {2}\".format(number1, number2, sum))"
   ]
  },
  {
   "cell_type": "code",
   "execution_count": 22,
   "metadata": {},
   "outputs": [
    {
     "name": "stdout",
     "output_type": "stream",
     "text": [
      "Factorial of  5 is 120\n"
     ]
    },
    {
     "data": {
      "text/plain": [
       "120"
      ]
     },
     "execution_count": 22,
     "metadata": {},
     "output_type": "execute_result"
    }
   ],
   "source": [
    "# program to find factorial of a given number\n",
    "def factorial(n):\n",
    "    if n == 1 or n == 0:\n",
    "        return 1\n",
    "    else:\n",
    "        return n * factorial(n - 1)\n",
    "num = 5\n",
    "print(\"Factorial of \", num, \"is\", factorial(num) )\n",
    "factorial(num)"
   ]
  },
  {
   "cell_type": "code",
   "execution_count": 20,
   "metadata": {},
   "outputs": [
    {
     "name": "stdin",
     "output_type": "stream",
     "text": [
      " 7\n"
     ]
    },
    {
     "name": "stdout",
     "output_type": "stream",
     "text": [
      "factorial of  7  is  5040\n"
     ]
    }
   ],
   "source": [
    "# factorial with user input using for loop\n",
    "num = int(input())\n",
    "fact = 1\n",
    " \n",
    "for i in range(1, num + 1):\n",
    "    fact = fact * i\n",
    " \n",
    "print(\"factorial of \", num, \" is \", fact)\n"
   ]
  },
  {
   "cell_type": "code",
   "execution_count": 24,
   "metadata": {},
   "outputs": [
    {
     "name": "stdin",
     "output_type": "stream",
     "text": [
      " 6\n"
     ]
    },
    {
     "name": "stdout",
     "output_type": "stream",
     "text": [
      "factorial of  6 is 720\n"
     ]
    }
   ],
   "source": [
    "# factorial using while loop\n",
    "num = int(input())\n",
    "fact = 1\n",
    "i = 1\n",
    "while i <= num:\n",
    "    fact = fact * i\n",
    "    i = i + 1\n",
    "    \n",
    "print(\"factorial of \", num, \"is\", fact)"
   ]
  },
  {
   "cell_type": "code",
   "execution_count": 25,
   "metadata": {},
   "outputs": [
    {
     "name": "stdin",
     "output_type": "stream",
     "text": [
      " 10000\n",
      " 5\n",
      " 5\n"
     ]
    },
    {
     "name": "stdout",
     "output_type": "stream",
     "text": [
      "2500.0\n"
     ]
    }
   ],
   "source": [
    "# calculate simple interest\n",
    "p = int(input())\n",
    "t = int(input())\n",
    "r = int(input())\n",
    "\n",
    "simple_interest = (p * t * r) / 100\n",
    "print(simple_interest)"
   ]
  },
  {
   "cell_type": "code",
   "execution_count": 1,
   "metadata": {},
   "outputs": [
    {
     "name": "stdin",
     "output_type": "stream",
     "text": [
      " 1200\n",
      " 2\n",
      " 5.4\n"
     ]
    },
    {
     "name": "stdout",
     "output_type": "stream",
     "text": [
      "1333.0992\n"
     ]
    }
   ],
   "source": [
    "# calculate compound interest\n",
    "p = int(input())\n",
    "t = float(input())\n",
    "r = float(input())\n",
    "\n",
    "compound_interest = p * pow(float(1) + (r / 100), t )\n",
    "print(compound_interest)\n"
   ]
  },
  {
   "cell_type": "code",
   "execution_count": 15,
   "metadata": {},
   "outputs": [
    {
     "name": "stdin",
     "output_type": "stream",
     "text": [
      " 370\n"
     ]
    },
    {
     "name": "stdout",
     "output_type": "stream",
     "text": [
      "370 is an armstrong number\n"
     ]
    }
   ],
   "source": [
    "# Python program to check if the number is an Armstrong number or not\n",
    "\n",
    "num = int(input())\n",
    "sum = 0\n",
    "temp = num\n",
    "while temp > 0:\n",
    "    digit = temp % 10\n",
    "    sum = sum + digit ** 3\n",
    "    temp = temp // 10\n",
    "    \n",
    "if num == sum:\n",
    "    print(num, \"is an armstrong number\")\n",
    "else:\n",
    "    print(num, \"is not an armstrong number\")\n",
    "\n"
   ]
  },
  {
   "cell_type": "code",
   "execution_count": 16,
   "metadata": {},
   "outputs": [
    {
     "name": "stdin",
     "output_type": "stream",
     "text": [
      " 3\n"
     ]
    },
    {
     "name": "stdout",
     "output_type": "stream",
     "text": [
      "28.26\n"
     ]
    }
   ],
   "source": [
    "# to find area of circle\n",
    "r = float(input())\n",
    "area = 3.14 * (r **2)\n",
    "print(area)"
   ]
  },
  {
   "cell_type": "code",
   "execution_count": 32,
   "metadata": {},
   "outputs": [
    {
     "name": "stdout",
     "output_type": "stream",
     "text": [
      "2\n",
      "3\n",
      "5\n",
      "7\n",
      "11\n",
      "13\n",
      "17\n",
      "19\n",
      "23\n",
      "29\n",
      "31\n",
      "37\n",
      "41\n",
      "43\n",
      "47\n",
      "53\n",
      "59\n",
      "61\n",
      "67\n",
      "71\n",
      "73\n",
      "79\n",
      "83\n",
      "89\n",
      "97\n"
     ]
    }
   ],
   "source": [
    "# to print prime numbers in an interval\n",
    "start = 1\n",
    "end = 100\n",
    "  \n",
    "for value in range(start, end + 1): \n",
    "      \n",
    "   # If num is divisible by any number   \n",
    "   # between 2 and val, it is not prime  \n",
    "   if value > 1: \n",
    "       for n in range(2, value): \n",
    "           if (value % n) == 0: \n",
    "               break\n",
    "       else: \n",
    "           print(value)\n"
   ]
  },
  {
   "cell_type": "code",
   "execution_count": 33,
   "metadata": {},
   "outputs": [
    {
     "name": "stdout",
     "output_type": "stream",
     "text": [
      "11 is a prime number\n"
     ]
    }
   ],
   "source": [
    "# check if number is prime or not\n",
    "n = 11\n",
    "if n > 1:\n",
    "    for i in range(2, n):\n",
    "        if n % i == 0:\n",
    "            print(n, \"is not a prime number\")\n",
    "            break\n",
    "    else:\n",
    "        print(n, \"is a prime number\")\n",
    "else:\n",
    "    print(num, \"is not a prime number\")"
   ]
  },
  {
   "cell_type": "code",
   "execution_count": 41,
   "metadata": {},
   "outputs": [
    {
     "name": "stdin",
     "output_type": "stream",
     "text": [
      " 4\n"
     ]
    },
    {
     "name": "stdout",
     "output_type": "stream",
     "text": [
      "0\n",
      "1\n",
      "1\n",
      "2\n",
      "3\n",
      "5\n",
      "8\n"
     ]
    }
   ],
   "source": [
    "# function for nth Fibonacci number\n",
    "def fibonacci(n):\n",
    "    n = int(input())\n",
    "    a = 0\n",
    "    b = 1\n",
    "    print(a)\n",
    "    print(b)\n",
    "    for i in range(a, n + 1):\n",
    "        c = a + b\n",
    "       \n",
    "        print(c)\n",
    "        a = b\n",
    "        b = c\n",
    "\n",
    "fibonacci(n)\n"
   ]
  },
  {
   "cell_type": "code",
   "execution_count": 45,
   "metadata": {},
   "outputs": [
    {
     "name": "stdout",
     "output_type": "stream",
     "text": [
      "1 is a fibonacci number\n",
      "2 is a fibonacci number\n",
      "3 is a fibonacci number\n",
      "4 is a not a fibonacci number\n",
      "5 is a fibonacci number\n",
      "6 is a not a fibonacci number\n",
      "7 is a not a fibonacci number\n",
      "8 is a fibonacci number\n",
      "9 is a not a fibonacci number\n",
      "10 is a not a fibonacci number\n"
     ]
    }
   ],
   "source": [
    "# check if number is fibonacci or not\n",
    "import math\n",
    "\n",
    "def is_square(x):\n",
    "    s = int(math.sqrt(x))\n",
    "    return s * s == x\n",
    "\n",
    "def is_fibonacci(n):\n",
    "    return is_square(5 * n * n + 4) or is_square(5 * n * n - 4)\n",
    "\n",
    "for i in range(1, 11):\n",
    "    if(is_fibonacci(i) == True):\n",
    "        print(i, \"is a fibonacci number\")\n",
    "    else:\n",
    "        print(i, \"is a not a fibonacci number\")"
   ]
  },
  {
   "cell_type": "code",
   "execution_count": 1,
   "metadata": {},
   "outputs": [
    {
     "name": "stdin",
     "output_type": "stream",
     "text": [
      " k\n"
     ]
    },
    {
     "name": "stdout",
     "output_type": "stream",
     "text": [
      "107\n"
     ]
    }
   ],
   "source": [
    "# print ASCII value\n",
    "c = input()\n",
    "print(ord(c))"
   ]
  },
  {
   "cell_type": "code",
   "execution_count": 8,
   "metadata": {},
   "outputs": [
    {
     "name": "stdout",
     "output_type": "stream",
     "text": [
      "30\n"
     ]
    }
   ],
   "source": [
    "# program for sum of squares of first n natural numbers\n",
    "def square(n):\n",
    "    n = 4\n",
    "    sm = 0\n",
    "    for i in range(1, n + 1):\n",
    "        sm = sm + i * i\n",
    "    print(sm)\n",
    "        \n",
    "square(n)"
   ]
  }
 ],
 "metadata": {
  "kernelspec": {
   "display_name": "Python 3",
   "language": "python",
   "name": "python3"
  },
  "language_info": {
   "codemirror_mode": {
    "name": "ipython",
    "version": 3
   },
   "file_extension": ".py",
   "mimetype": "text/x-python",
   "name": "python",
   "nbconvert_exporter": "python",
   "pygments_lexer": "ipython3",
   "version": "3.6.8"
  }
 },
 "nbformat": 4,
 "nbformat_minor": 2
}
