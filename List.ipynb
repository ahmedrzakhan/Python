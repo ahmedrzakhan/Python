{
 "cells": [
  {
   "cell_type": "code",
   "execution_count": 8,
   "metadata": {},
   "outputs": [
    {
     "data": {
      "text/plain": [
       "[24, 35, 9, 56, 12]"
      ]
     },
     "execution_count": 8,
     "metadata": {},
     "output_type": "execute_result"
    }
   ],
   "source": [
    "# python program to interchange first and last elements in a list\n",
    "\n",
    "def swap(a):\n",
    "    \n",
    "    temp = a[0]\n",
    "    a[0] = a[-1]\n",
    "    a[-1] = temp\n",
    "    return a\n",
    "    \n",
    "    \n",
    "a = [12, 35, 9, 56, 24] \n",
    "n = len(a)\n",
    "swap(a)\n",
    "\n",
    "\n"
   ]
  },
  {
   "cell_type": "code",
   "execution_count": 6,
   "metadata": {},
   "outputs": [
    {
     "name": "stdout",
     "output_type": "stream",
     "text": [
      "[24, 35, 9, 56, 12]\n"
     ]
    }
   ],
   "source": [
    "# approach 2\n",
    "\n",
    "def swap(a):\n",
    "    a[0], a[-1] = a[-1], a[0]\n",
    "    return a\n",
    "    \n",
    "a = [12, 35, 9, 56, 24]\n",
    "\n",
    "print(swap(a))\n"
   ]
  },
  {
   "cell_type": "code",
   "execution_count": 11,
   "metadata": {},
   "outputs": [
    {
     "name": "stdout",
     "output_type": "stream",
     "text": [
      "[24, 35, 9, 56, 12]\n"
     ]
    }
   ],
   "source": [
    "# approach 3\n",
    "\n",
    "def swap(a):\n",
    "    get = a[-1], a[0]\n",
    "    a[0], a[-1] = get\n",
    "    \n",
    "    return a\n",
    "\n",
    "a = [12, 35, 9, 56, 24]\n",
    "\n",
    "print(swap(a))\n"
   ]
  },
  {
   "cell_type": "code",
   "execution_count": 26,
   "metadata": {},
   "outputs": [
    {
     "name": "stdout",
     "output_type": "stream",
     "text": [
      "(24, 35, 9, 56, 12)\n"
     ]
    }
   ],
   "source": [
    "# approach 4\n",
    "\n",
    "def swap(a): \n",
    "      \n",
    "    start, *middle, end = a\n",
    "    a = end, *middle, start\n",
    "      \n",
    "    return a\n",
    "      \n",
    "# Driver code \n",
    "new_list = [12, 35, 9, 56, 24] \n",
    "  \n",
    "print(swap(new_list))"
   ]
  },
  {
   "cell_type": "code",
   "execution_count": 30,
   "metadata": {},
   "outputs": [
    {
     "name": "stdout",
     "output_type": "stream",
     "text": [
      "[24, 35, 9, 56, 12]\n"
     ]
    }
   ],
   "source": [
    "#approach 5\n",
    "\n",
    "def swap(a):\n",
    "    \n",
    "    first = a.pop(0)\n",
    "    last = a.pop(-1)\n",
    "    \n",
    "    a.insert(0, last)\n",
    "    a.append(first)\n",
    "    \n",
    "    return a\n",
    "\n",
    "newList = [12,35, 9, 56, 24]\n",
    "\n",
    "print(swap(newList))"
   ]
  },
  {
   "cell_type": "code",
   "execution_count": 32,
   "metadata": {},
   "outputs": [
    {
     "name": "stdout",
     "output_type": "stream",
     "text": [
      "[19, 65, 23, 90]\n"
     ]
    }
   ],
   "source": [
    "# Python program to swap two elements in a list\n",
    "\n",
    "\n",
    "def swap(a, pos1, pos2):\n",
    "    \n",
    "    a[pos1], a[pos2] = a[pos2], a[pos1]\n",
    "    \n",
    "    return a\n",
    "\n",
    "List = [23, 65, 19, 90]\n",
    "pos1, pos2 = 1, 3\n",
    "\n",
    "print(swap(List, pos1 - 1, pos2 - 1))"
   ]
  },
  {
   "cell_type": "code",
   "execution_count": 38,
   "metadata": {},
   "outputs": [
    {
     "name": "stdout",
     "output_type": "stream",
     "text": [
      "[90, 65, 23, 19]\n"
     ]
    }
   ],
   "source": [
    "# approach 2 using list.pop() function\n",
    "\n",
    "def swap(a, pos1, pos2):\n",
    "    \n",
    "    first = a.pop(pos1)\n",
    "    second = a.pop(pos2)\n",
    "    \n",
    "    a.insert(pos1, second)\n",
    "    a.insert(pos2, first)\n",
    "    \n",
    "    return a\n",
    "\n",
    "List = [23, 65, 19, 90]\n",
    "pos1, pos2 = 0, 2\n",
    "\n",
    "print(swap(List, pos1 , pos2))"
   ]
  },
  {
   "cell_type": "code",
   "execution_count": 40,
   "metadata": {},
   "outputs": [
    {
     "name": "stdout",
     "output_type": "stream",
     "text": [
      "['geeks', 'for']\n"
     ]
    }
   ],
   "source": [
    "# program to remove nth occurence in list\n",
    "\n",
    "def remove(a):\n",
    "    first = a.pop(2)\n",
    "    return a\n",
    "\n",
    "a = [\"geeks\", \"for\", \"geeks\"]\n",
    "\n",
    "print(remove(a))"
   ]
  },
  {
   "cell_type": "code",
   "execution_count": 60,
   "metadata": {},
   "outputs": [
    {
     "name": "stdout",
     "output_type": "stream",
     "text": [
      "updated list ['geeks', 'for']\n"
     ]
    },
    {
     "data": {
      "text/plain": [
       "['geeks', 'for']"
      ]
     },
     "execution_count": 60,
     "metadata": {},
     "output_type": "execute_result"
    }
   ],
   "source": [
    "\n",
    "\n",
    "def removeIthWord(lst, word, N):\n",
    "    newList = []\n",
    "    count = 0\n",
    "    \n",
    "    for i in lst:\n",
    "        if(i == word):\n",
    "            count = count + 1\n",
    "            if(count != N):\n",
    "                newList.append(i)\n",
    "        else:\n",
    "            newList.append(i)\n",
    "            \n",
    "    #lst = newList\n",
    "    \n",
    "    if count == 0:\n",
    "        print(\"item not found\")\n",
    "    else:\n",
    "        print(\"updated list\", lst)\n",
    "        \n",
    "    return lst\n",
    "\n",
    "list = [\"geeks\", \"for\"]\n",
    "word = \"geeks\"\n",
    "N = 2\n",
    "\n",
    "removeIthWord(list, word, N)"
   ]
  },
  {
   "cell_type": "code",
   "execution_count": 13,
   "metadata": {},
   "outputs": [
    {
     "name": "stdout",
     "output_type": "stream",
     "text": [
      "item not updated\n"
     ]
    }
   ],
   "source": [
    "def removeIthWord(list, word, N):\n",
    "    count = 0\n",
    "    \n",
    "    for i in range(0, len(list)):\n",
    "        if (list[i] == word):\n",
    "            count = count + 1\n",
    "            \n",
    "            if(count == N):\n",
    "                del(list[i])\n",
    "                return True\n",
    "            \n",
    "    return False\n",
    "    \n",
    "    \n",
    "list = ['geeks', 'for', 'geeks']\n",
    "word ='geeks'\n",
    "N = 2\n",
    "\n",
    "flag = removeIthWord(list, word, N)\n",
    "\n",
    "if(flag == True):\n",
    "    print(\"updated list is: \", list)\n",
    "else:\n",
    "    print(\"item not updated\")"
   ]
  },
  {
   "cell_type": "code",
   "execution_count": 12,
   "metadata": {},
   "outputs": [
    {
     "data": {
      "text/plain": [
       "4"
      ]
     },
     "execution_count": 12,
     "metadata": {},
     "output_type": "execute_result"
    }
   ],
   "source": [
    "# program to find length of list\n",
    "\n",
    "def length(list):\n",
    "    count = 0\n",
    "    for i in list:\n",
    "        count = count + 1\n",
    "        \n",
    "    return count\n",
    "\n",
    "\n",
    "\n",
    "list = [12, 11, 32, 23]\n",
    "length(list)"
   ]
  },
  {
   "cell_type": "code",
   "execution_count": 15,
   "metadata": {},
   "outputs": [
    {
     "name": "stdout",
     "output_type": "stream",
     "text": [
      "4\n"
     ]
    }
   ],
   "source": [
    "# program to find length of list\n",
    "# approach 2\n",
    "\n",
    "def length(list):\n",
    "    print(len(list))\n",
    "\n",
    "\n",
    "\n",
    "list = [12, 11, 32, 23]\n",
    "length(list)"
   ]
  },
  {
   "cell_type": "code",
   "execution_count": 18,
   "metadata": {},
   "outputs": [
    {
     "name": "stdout",
     "output_type": "stream",
     "text": [
      "4\n"
     ]
    }
   ],
   "source": [
    "# approach 3\n",
    "\n",
    "from operator import length_hint\n",
    "\n",
    "a = [1, 2, 3, 4]\n",
    "\n",
    "print(length_hint(a))"
   ]
  },
  {
   "cell_type": "code",
   "execution_count": 20,
   "metadata": {},
   "outputs": [
    {
     "name": "stdout",
     "output_type": "stream",
     "text": [
      "The list is : [1, 4, 5, 7, 8]\n",
      "Time taken using naive method is : 0.0001399517059326172\n",
      "Time taken using len() is : 8.392333984375e-05\n",
      "Time taken using length_hint() is : 8.392333984375e-05\n"
     ]
    }
   ],
   "source": [
    "from operator import length_hint \n",
    "import time \n",
    "  \n",
    "# Initializing list  \n",
    "test_list = [ 1, 4, 5, 7, 8 ] \n",
    "  \n",
    "# Printing test_list \n",
    "print (\"The list is : \" + str(test_list)) \n",
    "  \n",
    "# Finding length of list  \n",
    "# using loop \n",
    "# Initializing counter \n",
    "start_time_naive = time.time() \n",
    "counter = 0\n",
    "for i in test_list: \n",
    "      \n",
    "    # incrementing counter \n",
    "    counter = counter + 1\n",
    "end_time_naive = str(time.time() - start_time_naive) \n",
    "  \n",
    "# Finding length of list  \n",
    "# using len() \n",
    "start_time_len = time.time() \n",
    "list_len = len(test_list) \n",
    "end_time_len = str(time.time() - start_time_len) \n",
    "  \n",
    "# Finding length of list  \n",
    "# using length_hint() \n",
    "start_time_hint = time.time() \n",
    "list_len_hint = length_hint(test_list) \n",
    "end_time_hint = str(time.time() - start_time_hint) \n",
    "  \n",
    "# Printing Times of each  \n",
    "print (\"Time taken using naive method is : \" + end_time_naive) \n",
    "print (\"Time taken using len() is : \" + end_time_len) \n",
    "print (\"Time taken using length_hint() is : \" + end_time_hint) \n"
   ]
  },
  {
   "cell_type": "code",
   "execution_count": 27,
   "metadata": {},
   "outputs": [
    {
     "name": "stdout",
     "output_type": "stream",
     "text": [
      "element exists\n",
      "exists\n"
     ]
    }
   ],
   "source": [
    "# program to check existence of element in list\n",
    "\n",
    "a = [1, 2, 3, 4]\n",
    "\n",
    "for i in a:\n",
    "    if i == 4:\n",
    "        print(\"element exists\")\n",
    "   \n",
    "\n",
    "if (4 in a):\n",
    "    print(\"exists\")\n",
    "        \n"
   ]
  },
  {
   "cell_type": "code",
   "execution_count": 29,
   "metadata": {},
   "outputs": [
    {
     "name": "stdout",
     "output_type": "stream",
     "text": [
      "elements exist\n",
      "elements exist\n"
     ]
    }
   ],
   "source": [
    "# Approach 2        \n",
    "\n",
    "from bisect import bisect_left\n",
    "\n",
    "test_list_set = [1, 6, 3, 5, 3, 4]\n",
    "test_list_bisect = [1, 6, 3, 5, 3, 4]\n",
    "\n",
    "if 4 in test_list_set:\n",
    "    print(\"elements exist\")\n",
    "    \n",
    "    \n",
    "if bisect_left(test_list_bisect, 4):\n",
    "    print(\"elements exist\")"
   ]
  },
  {
   "cell_type": "code",
   "execution_count": 30,
   "metadata": {},
   "outputs": [
    {
     "name": "stdout",
     "output_type": "stream",
     "text": [
      "[1, 2, 3, 4]\n",
      "[]\n"
     ]
    }
   ],
   "source": [
    "# different ways to clear a list\n",
    "\n",
    "a = [1, 2, 3, 4]\n",
    "print(a)\n",
    "\n",
    "a.clear()\n",
    "print(a)"
   ]
  },
  {
   "cell_type": "code",
   "execution_count": 31,
   "metadata": {},
   "outputs": [
    {
     "name": "stdout",
     "output_type": "stream",
     "text": [
      "[1, 2, 3, 4]\n",
      "[]\n",
      "[5, 6, 7]\n",
      "[]\n"
     ]
    }
   ],
   "source": [
    "# approach 2\n",
    "\n",
    "list1 = [1, 2, 3, 4]\n",
    "list2 = [5, 6, 7]\n",
    "\n",
    "print(str(list1))\n",
    "\n",
    "list1.clear()\n",
    "\n",
    "print(str(list1))\n",
    "\n",
    "print(str(list2))\n",
    "\n",
    "list2= []\n",
    "\n",
    "print(str(list2))"
   ]
  },
  {
   "cell_type": "code",
   "execution_count": 32,
   "metadata": {},
   "outputs": [
    {
     "name": "stdout",
     "output_type": "stream",
     "text": [
      "[1, 2, 3]\n",
      "[]\n"
     ]
    }
   ],
   "source": [
    "# approach 3\n",
    "\n",
    "list1 = [1, 2, 3]\n",
    "\n",
    "print(list1)\n",
    "\n",
    "list1 *= 0 # deleting list using *= 0\n",
    "\n",
    "print(str(list1))"
   ]
  },
  {
   "cell_type": "code",
   "execution_count": 37,
   "metadata": {},
   "outputs": [
    {
     "name": "stdout",
     "output_type": "stream",
     "text": [
      "[1, 2, 3, 4]\n",
      "[]\n",
      "[5, 6, 7]\n",
      "[]\n"
     ]
    }
   ],
   "source": [
    "# approach 4\n",
    "\n",
    "list1 = [1, 2, 3 ,4]\n",
    "list2 = [5, 6, 7]\n",
    "\n",
    "print(str(list1))\n",
    "\n",
    "del list1[:]\n",
    "print(str(list1))\n",
    "\n",
    "print(str(list2))\n",
    "\n",
    "del list2[:]\n",
    "print(str(list2))"
   ]
  },
  {
   "cell_type": "code",
   "execution_count": 42,
   "metadata": {},
   "outputs": [
    {
     "name": "stdout",
     "output_type": "stream",
     "text": [
      "[3, 2, 10]\n"
     ]
    }
   ],
   "source": [
    "# program for reversing a list\n",
    "\n",
    "def Reverse(a):\n",
    "    return [b for b in reversed(a)] # using reversed built-in function\n",
    "\n",
    "c = [10, 2, 3]\n",
    "print(Reverse(c))"
   ]
  },
  {
   "cell_type": "code",
   "execution_count": 43,
   "metadata": {},
   "outputs": [
    {
     "name": "stdout",
     "output_type": "stream",
     "text": [
      "[22, 12, 12, 10]\n"
     ]
    }
   ],
   "source": [
    "def Reverse(lst):\n",
    "    lst.reverse()\n",
    "    return lst\n",
    "\n",
    "lst = [10, 12, 12, 22]\n",
    "print(Reverse(lst))"
   ]
  },
  {
   "cell_type": "code",
   "execution_count": 44,
   "metadata": {},
   "outputs": [
    {
     "name": "stdout",
     "output_type": "stream",
     "text": [
      "None\n"
     ]
    }
   ],
   "source": [
    "def reverse(list):\n",
    "    list[: : -1]\n",
    "    ret\n",
    "\n",
    "list = [1, 2, 3, 4]    \n",
    "print(reverse(list))\n",
    "\n"
   ]
  },
  {
   "cell_type": "code",
   "execution_count": 4,
   "metadata": {},
   "outputs": [
    {
     "name": "stdout",
     "output_type": "stream",
     "text": [
      "[1, 2, 3, 4]\n",
      "[1, 2, 3, 4]\n"
     ]
    }
   ],
   "source": [
    "# program for cloning copying a list\n",
    "# using slicing technique\n",
    "def Cloning(a):\n",
    "    \n",
    "    b = a[:]\n",
    "    \n",
    "    return b\n",
    "\n",
    "a = [1, 2, 3, 4]\n",
    "\n",
    "c = Cloning(a)\n",
    "print(a)\n",
    "print(c)\n"
   ]
  },
  {
   "cell_type": "code",
   "execution_count": 5,
   "metadata": {},
   "outputs": [
    {
     "name": "stdout",
     "output_type": "stream",
     "text": [
      "[1, 2, 3, 4]\n",
      "[1, 2, 3, 4]\n"
     ]
    }
   ],
   "source": [
    "# approach 2\n",
    "# using extend method\n",
    "\n",
    "def Cloning(a):\n",
    "    \n",
    "    a_copy = [ ]\n",
    "    a_copy.extend(a)\n",
    "    \n",
    "    return a_copy\n",
    "\n",
    "a = [1, 2, 3, 4]\n",
    "b = Cloning(a)\n",
    "print(a)\n",
    "print(b)"
   ]
  },
  {
   "cell_type": "code",
   "execution_count": 6,
   "metadata": {},
   "outputs": [
    {
     "name": "stdout",
     "output_type": "stream",
     "text": [
      "[1, 2, 3, 4]\n",
      "[1, 2, 3, 4]\n"
     ]
    }
   ],
   "source": [
    "# using list method\n",
    "\n",
    "def Cloning(a):\n",
    "    \n",
    "    a_copy = list(a)\n",
    "    return a_copy\n",
    "\n",
    "a = [1, 2, 3, 4]\n",
    "b = Cloning(a)\n",
    "print(a)\n",
    "print(b)"
   ]
  },
  {
   "cell_type": "code",
   "execution_count": 8,
   "metadata": {},
   "outputs": [
    {
     "name": "stdout",
     "output_type": "stream",
     "text": [
      "[1, 2, 3, 4]\n",
      "[1, 2, 3, 4]\n"
     ]
    }
   ],
   "source": [
    "# using list comprehension\n",
    "\n",
    "def Cloning(a):\n",
    "    \n",
    "    a_copy = [i for i in a]\n",
    "    \n",
    "    return a_copy\n",
    "\n",
    "a = [1, 2, 3, 4]\n",
    "b = Cloning(a)\n",
    "print(a)\n",
    "print(b)"
   ]
  },
  {
   "cell_type": "code",
   "execution_count": 9,
   "metadata": {},
   "outputs": [
    {
     "name": "stdout",
     "output_type": "stream",
     "text": [
      "[1, 2, 3, 4]\n",
      "[1, 2, 3, 4]\n"
     ]
    }
   ],
   "source": [
    "# using the copy method\n",
    "\n",
    "def Cloning(a):\n",
    "    \n",
    "    a_copy = []\n",
    "    a_copy = a.copy()\n",
    "    \n",
    "    return a_copy\n",
    "\n",
    "a = [1, 2, 3, 4]\n",
    "b = Cloning(a)\n",
    "print(a)\n",
    "print(b)"
   ]
  },
  {
   "cell_type": "code",
   "execution_count": 12,
   "metadata": {},
   "outputs": [
    {
     "data": {
      "text/plain": [
       "4"
      ]
     },
     "execution_count": 12,
     "metadata": {},
     "output_type": "execute_result"
    }
   ],
   "source": [
    "# program count occurences of an elements in a list\n",
    "\n",
    "def occur(a):\n",
    "    \n",
    "    return len(a)        \n",
    "        \n",
    "a = [1, 2, 3, 4]\n",
    "occur(a)"
   ]
  },
  {
   "cell_type": "code",
   "execution_count": 15,
   "metadata": {},
   "outputs": [
    {
     "name": "stdout",
     "output_type": "stream",
     "text": [
      "2 has occured 2 times\n"
     ]
    }
   ],
   "source": [
    "#approach 2\n",
    "\n",
    "def countX(lst, x):\n",
    "    count = 0\n",
    "    for i in lst:\n",
    "        if (i == x):\n",
    "            count = count + 1\n",
    "    \n",
    "    return count\n",
    "\n",
    "lst = [1, 2, 3, 4, 2 ]\n",
    "x = 2\n",
    "print('{} has occured {} times'.format(x, countX(lst, x)))"
   ]
  },
  {
   "cell_type": "code",
   "execution_count": 27,
   "metadata": {},
   "outputs": [
    {
     "name": "stdout",
     "output_type": "stream",
     "text": [
      "4 has occured 1 times\n"
     ]
    }
   ],
   "source": [
    "#  using count method\n",
    "\n",
    "def countX(a, x):\n",
    "    \n",
    "    return a.count(x)\n",
    "\n",
    "a = [1, 2,3 ,4]\n",
    "x = 4\n",
    "print('{} has occured {} times'.format(x, countX(a, x)))"
   ]
  },
  {
   "cell_type": "code",
   "execution_count": 31,
   "metadata": {},
   "outputs": [
    {
     "name": "stdout",
     "output_type": "stream",
     "text": [
      "sum of all elements:  48\n"
     ]
    }
   ],
   "source": [
    "# program to find sum of elements in a list\n",
    "\n",
    "total = 0\n",
    "\n",
    "a = [11, 2, 32, 3]\n",
    "\n",
    "for i in range(0, len(a)):\n",
    "    total = total + a[i]\n",
    "    \n",
    "print(\"sum of all elements: \", total)"
   ]
  },
  {
   "cell_type": "code",
   "execution_count": 33,
   "metadata": {},
   "outputs": [
    {
     "name": "stdout",
     "output_type": "stream",
     "text": [
      "sum of all elements  19\n"
     ]
    }
   ],
   "source": [
    "# using while loop\n",
    "\n",
    "total = 0\n",
    "i = 0\n",
    "list1 = [11, 3, 2, 3]\n",
    "\n",
    "while(i < len(list1)):\n",
    "    total = total + list1[i]\n",
    "    i = i + 1\n",
    "    \n",
    "print(\"sum of all elements \", total)"
   ]
  },
  {
   "cell_type": "code",
   "execution_count": 38,
   "metadata": {},
   "outputs": [
    {
     "name": "stdout",
     "output_type": "stream",
     "text": [
      "Sum of all elements in given list:  74\n",
      "18\n"
     ]
    }
   ],
   "source": [
    "# recursive way\n",
    "\n",
    "list1 = [11, 5, 17, 18, 23] \n",
    "  \n",
    "# creating sum_list function \n",
    "def sumOfList(list, size): \n",
    "   if (size == 0): \n",
    "     return 0\n",
    "   else: \n",
    "     return list[size - 1] + sumOfList(list, size - 1) \n",
    "   \n",
    "# Driver code      \n",
    "total = sumOfList(list1, len(list1)) \n",
    "  \n",
    "print(\"Sum of all elements in given list: \", total)\n",
    "\n",
    "\n"
   ]
  },
  {
   "cell_type": "code",
   "execution_count": 46,
   "metadata": {},
   "outputs": [
    {
     "name": "stdout",
     "output_type": "stream",
     "text": [
      "24\n"
     ]
    }
   ],
   "source": [
    "# program to multiply all numbers in a list\n",
    "\n",
    "def multiply(a):\n",
    "    \n",
    "    total = 1\n",
    "    for i in a:\n",
    "        total = total * i\n",
    "        \n",
    "    return total\n",
    "\n",
    "a = [1, 2,3 ,4]\n",
    "print(multiply(a))"
   ]
  },
  {
   "cell_type": "code",
   "execution_count": 50,
   "metadata": {},
   "outputs": [
    {
     "name": "stdout",
     "output_type": "stream",
     "text": [
      "24 24\n"
     ]
    }
   ],
   "source": [
    "# using numpy.prod()\n",
    "\n",
    "import numpy\n",
    "\n",
    "a = [1 , 2, 3, 4]\n",
    "b = [2, 3,4 ]\n",
    "\n",
    "r1 = numpy.prod(a)\n",
    "r2 = numpy.prod(b)\n",
    "print (r1, r2)"
   ]
  },
  {
   "cell_type": "code",
   "execution_count": 51,
   "metadata": {},
   "outputs": [
    {
     "name": "stdout",
     "output_type": "stream",
     "text": [
      "6\n",
      "24\n"
     ]
    }
   ],
   "source": [
    "# using lamda fuction\n",
    "\n",
    "from functools import reduce\n",
    "a = [1, 2, 3]\n",
    "b = [2, 3, 4]\n",
    "\n",
    "r1 = reduce((lambda x, y: x * y), a)\n",
    "r2 = reduce((lambda x, y: x * y), b)\n",
    "\n",
    "print(r1)\n",
    "print(r2)\n"
   ]
  },
  {
   "cell_type": "code",
   "execution_count": 3,
   "metadata": {},
   "outputs": [
    {
     "name": "stdout",
     "output_type": "stream",
     "text": [
      "[1]\n"
     ]
    }
   ],
   "source": [
    "# program to find smallest number in a list\n",
    "#using sort function\n",
    "\n",
    "\n",
    "a = [2, 1,3 ,4]\n",
    "\n",
    "a.sort()\n",
    "\n",
    "print(a[:1])"
   ]
  },
  {
   "cell_type": "code",
   "execution_count": 4,
   "metadata": {},
   "outputs": [
    {
     "name": "stdout",
     "output_type": "stream",
     "text": [
      "3\n"
     ]
    }
   ],
   "source": [
    "# using min function\n",
    "\n",
    "a = [9,3, 6,7]\n",
    "\n",
    "print(min(a))"
   ]
  },
  {
   "cell_type": "code",
   "execution_count": 8,
   "metadata": {},
   "outputs": [
    {
     "name": "stdin",
     "output_type": "stream",
     "text": [
      "eneter number of elements in a list 3\n",
      "enter the elements:  2\n",
      "enter the elements:  4\n",
      "enter the elements:  5\n"
     ]
    },
    {
     "name": "stdout",
     "output_type": "stream",
     "text": [
      "smallest element is:  2\n"
     ]
    }
   ],
   "source": [
    "# user given input\n",
    "\n",
    "a = []\n",
    "\n",
    "num = int(input(\"eneter number of elements in a list\"))\n",
    "\n",
    "for i in range(0, num ):\n",
    "    \n",
    "    ele = int(input(\"enter the elements: \"))\n",
    "    a.append(ele)\n",
    "    \n",
    "print(\"smallest element is: \", min(a))\n"
   ]
  },
  {
   "cell_type": "code",
   "execution_count": 12,
   "metadata": {},
   "outputs": [
    {
     "name": "stdout",
     "output_type": "stream",
     "text": [
      "4\n"
     ]
    }
   ],
   "source": [
    "# print largest\n",
    "\n",
    "a = [2, 1,3 ,4]\n",
    "\n",
    "a.sort()\n",
    "\n",
    "print(a[-1])"
   ]
  },
  {
   "cell_type": "code",
   "execution_count": 4,
   "metadata": {},
   "outputs": [
    {
     "name": "stdout",
     "output_type": "stream",
     "text": [
      "4\n"
     ]
    }
   ],
   "source": [
    "# approach 2\n",
    "\n",
    "a = [2, 1,3 ,4]\n",
    "\n",
    "\n",
    "print(max(a))"
   ]
  },
  {
   "cell_type": "code",
   "execution_count": 14,
   "metadata": {},
   "outputs": [
    {
     "name": "stdin",
     "output_type": "stream",
     "text": [
      "enter number odf elemnts in a list 3\n",
      "netre elemsnt 2\n",
      "netre elemsnt 3\n",
      "netre elemsnt 4\n"
     ]
    },
    {
     "name": "stdout",
     "output_type": "stream",
     "text": [
      "largest elemnt is  4\n"
     ]
    }
   ],
   "source": [
    "# approach 3\n",
    "\n",
    "a = []\n",
    "num = int(input(\"enter number odf elemnts in a list\"))\n",
    "\n",
    "for i in range(1, num + 1):\n",
    "    ele = int(input(\"netre elemsnt\"))\n",
    "    a.append(ele)\n",
    "    \n",
    "print(\"largest elemnt is \", max(a))"
   ]
  },
  {
   "cell_type": "code",
   "execution_count": 2,
   "metadata": {},
   "outputs": [
    {
     "name": "stdout",
     "output_type": "stream",
     "text": [
      "34\n"
     ]
    }
   ],
   "source": [
    "# program for finding second largest element\n",
    "\n",
    "a = [12, 34, 2 ,33 ,44]\n",
    "a.sort()\n",
    "print(a[-2])"
   ]
  },
  {
   "cell_type": "code",
   "execution_count": 16,
   "metadata": {},
   "outputs": [
    {
     "name": "stdin",
     "output_type": "stream",
     "text": [
      "enter number of elements in list:  4\n",
      "enter number of elemnets in a list:  2\n",
      "enter number of elemnets in a list:  5\n",
      "enter number of elemnets in a list:  9\n",
      "enter number of elemnets in a list:  9\n"
     ]
    },
    {
     "name": "stdout",
     "output_type": "stream",
     "text": [
      "second largest elemnt is :  9\n"
     ]
    }
   ],
   "source": [
    "# approach 2\n",
    "\n",
    "a = []\n",
    "\n",
    "num = int(input(\"enter number of elements in list: \"))\n",
    "\n",
    "for i in range(0, num):\n",
    "    ele = int(input(\"enter number of elemnets in a list: \"))\n",
    "    a.append(ele)\n",
    "    \n",
    "print(\"second largest elemnt is : \", sorted(a)[-2] )"
   ]
  },
  {
   "cell_type": "code",
   "execution_count": 17,
   "metadata": {},
   "outputs": [
    {
     "name": "stdout",
     "output_type": "stream",
     "text": [
      "[85, 41]\n"
     ]
    }
   ],
   "source": [
    "# program to find N largest elements from a list\n",
    "\n",
    "def Nmaxelements(list1, N):\n",
    "    final_list = []\n",
    "    \n",
    "    for i in range(0, N):\n",
    "        max1 = 0\n",
    "        \n",
    "        for j in range(len(list1)):\n",
    "            if list1[j] > max1:\n",
    "                max1 = list1[j]\n",
    "                \n",
    "        list1.remove(max1)\n",
    "        final_list.append(max1)\n",
    "        \n",
    "    print(final_list)\n",
    "    \n",
    "list1 = [2, 36, 41, 85, 0, 3, 7, 6, 10]\n",
    "N = 2\n",
    "\n",
    "Nmaxelements(list1, N)"
   ]
  },
  {
   "cell_type": "code",
   "execution_count": 22,
   "metadata": {},
   "outputs": [
    {
     "name": "stdout",
     "output_type": "stream",
     "text": [
      "[6, 8]\n"
     ]
    }
   ],
   "source": [
    "list1 = [2, 4, 2, 3, 6, 8,5 ,3]\n",
    "list1.sort()\n",
    "print(list1[-2:])"
   ]
  },
  {
   "cell_type": "code",
   "execution_count": 34,
   "metadata": {},
   "outputs": [
    {
     "name": "stdout",
     "output_type": "stream",
     "text": [
      "2 4 8 "
     ]
    }
   ],
   "source": [
    "# program to print even numbers in a list\n",
    "\n",
    "a = [2, 4, 5, 7, 9,8]\n",
    "\n",
    "for i in a:\n",
    "    if i % 2 == 0:\n",
    "        print(i, end = \" \")\n",
    "            \n",
    "            \n",
    "            \n"
   ]
  },
  {
   "cell_type": "code",
   "execution_count": 5,
   "metadata": {},
   "outputs": [
    {
     "name": "stdout",
     "output_type": "stream",
     "text": [
      "[10, 4, 34, 66]\n"
     ]
    }
   ],
   "source": [
    "# Using list\n",
    "\n",
    "list1 = [10, 21, 4, 34, 3445, 66, 93]\n",
    "\n",
    "even_nos = [num for num in list1 if num % 2 == 0]\n",
    "\n",
    "print(even_nos)"
   ]
  },
  {
   "cell_type": "code",
   "execution_count": 6,
   "metadata": {},
   "outputs": [
    {
     "name": "stdout",
     "output_type": "stream",
     "text": [
      "[10, 4, 66]\n"
     ]
    }
   ],
   "source": [
    "# using lambda expression\n",
    "\n",
    "list1 = [10, 21, 4, 45, 66, 93, 11]  \n",
    "  \n",
    "even_nos = list(filter(lambda x: (x % 2 == 0), list1)) \n",
    "  \n",
    "print(even_nos)  "
   ]
  },
  {
   "cell_type": "code",
   "execution_count": 3,
   "metadata": {},
   "outputs": [
    {
     "name": "stdout",
     "output_type": "stream",
     "text": [
      "57 67 69 "
     ]
    }
   ],
   "source": [
    "# program to print odd numbers in a list\n",
    "\n",
    "list1 = [10, 20, 34, 57, 67, 69]\n",
    "\n",
    "def odd(list1):\n",
    "    \n",
    "    for i in list1:\n",
    "        if i % 2 != 0:\n",
    "            print(i, end = \" \")\n",
    "            \n",
    "            \n",
    "odd(list1)"
   ]
  },
  {
   "cell_type": "code",
   "execution_count": 1,
   "metadata": {},
   "outputs": [
    {
     "name": "stdout",
     "output_type": "stream",
     "text": [
      "2 5 67 "
     ]
    }
   ],
   "source": [
    "# using while loop\n",
    "\n",
    "list1 = [10, 2, 3, 5, 46, 67]\n",
    "i = 0\n",
    "\n",
    "while(i < len(list1)):\n",
    "    \n",
    "    if i % 2 != 0:\n",
    "        print(list1[i], end = \" \")\n",
    "\n",
    "    i += 1"
   ]
  },
  {
   "cell_type": "code",
   "execution_count": 1,
   "metadata": {},
   "outputs": [
    {
     "name": "stdout",
     "output_type": "stream",
     "text": [
      "[3, 79, 55]\n"
     ]
    }
   ],
   "source": [
    "# using list comprehension\n",
    "\n",
    "list1 = [10, 3, 4, 6, 79, 55]\n",
    "\n",
    "odd = [num for num in list1 if num % 2 != 0]\n",
    "\n",
    "print(odd)"
   ]
  },
  {
   "cell_type": "code",
   "execution_count": 6,
   "metadata": {},
   "outputs": [
    {
     "name": "stdout",
     "output_type": "stream",
     "text": [
      "[5, 7, 57]\n"
     ]
    }
   ],
   "source": [
    "# using lamda expression\n",
    "\n",
    "list1 = [10, 2, 34, 5, 7,57]\n",
    "\n",
    "odd_nos = list(filter(lambda x: (x % 2 != 0), list1))\n",
    "\n",
    "print(odd_nos)"
   ]
  },
  {
   "cell_type": "code",
   "execution_count": 8,
   "metadata": {},
   "outputs": [
    {
     "name": "stdout",
     "output_type": "stream",
     "text": [
      "4 6 8 10 12 14 16 18 "
     ]
    }
   ],
   "source": [
    "# program to print all even nos in a range\n",
    "\n",
    "start, end = 4, 19\n",
    "\n",
    "for num in range(start, end + 1):\n",
    "    \n",
    "    if num % 2 == 0:\n",
    "        print(num, end = \" \")"
   ]
  },
  {
   "cell_type": "code",
   "execution_count": 10,
   "metadata": {},
   "outputs": [
    {
     "name": "stdin",
     "output_type": "stream",
     "text": [
      " enter the start value 4\n",
      " enter the end value 19\n"
     ]
    },
    {
     "name": "stdout",
     "output_type": "stream",
     "text": [
      "4 6 8 10 12 14 16 18 "
     ]
    }
   ],
   "source": [
    "#taking range limit from user\n",
    "\n",
    "start = int(input(\" enter the start value\"))\n",
    "end = int(input(\" enter the end value\"))\n",
    "\n",
    "for i in range(start, end + 1):\n",
    "    \n",
    "    if i % 2 == 0:\n",
    "        print(i, end = \" \")"
   ]
  },
  {
   "cell_type": "code",
   "execution_count": 11,
   "metadata": {},
   "outputs": [
    {
     "name": "stdout",
     "output_type": "stream",
     "text": [
      "4 6 8 10 12 14 16 18 20 "
     ]
    }
   ],
   "source": [
    "# program to print all odd numbers in a range\n",
    "\n",
    "start, end = 4, 20\n",
    "\n",
    "for i in range(start, end + 1):\n",
    "    \n",
    "    if i % 2 == 0:\n",
    "        print(i, end = \" \")"
   ]
  },
  {
   "cell_type": "code",
   "execution_count": 12,
   "metadata": {},
   "outputs": [
    {
     "name": "stdin",
     "output_type": "stream",
     "text": [
      "enter start  4\n",
      "enter end  30\n"
     ]
    },
    {
     "name": "stdout",
     "output_type": "stream",
     "text": [
      "4 6 8 10 12 14 16 18 20 22 24 26 28 "
     ]
    }
   ],
   "source": [
    "# taking input from user\n",
    "\n",
    "start = int(input(\"enter start \"))\n",
    "end = int(input(\"enter end \"))\n",
    "\n",
    "for i in range(start, end):\n",
    "    \n",
    "    if i % 2 == 0:\n",
    "        print(i, end = \" \")"
   ]
  },
  {
   "cell_type": "code",
   "execution_count": 13,
   "metadata": {},
   "outputs": [
    {
     "name": "stdout",
     "output_type": "stream",
     "text": [
      "3 2\n"
     ]
    }
   ],
   "source": [
    "# program to count number of even and odd nos\n",
    "\n",
    "list1 = [2, 7, 5, 64, 14]\n",
    "even = 0\n",
    "odd = 0\n",
    "\n",
    "for i in list1:\n",
    "    \n",
    "    if i % 2 == 0:\n",
    "        even = even + 1\n",
    "    if i % 2 == 1:\n",
    "        odd = odd + 1\n",
    "        \n",
    "print(even , odd)"
   ]
  },
  {
   "cell_type": "code",
   "execution_count": null,
   "metadata": {},
   "outputs": [],
   "source": [
    "# using while loop\n",
    "\n",
    "list1 = [2, 7, 5, 64, 14]\n",
    "even = 0\n",
    "odd = 0\n",
    "i = 0\n",
    "\n",
    "while(i < len(list1)):\n",
    "    \n",
    "    if list1[i] % 2 == 0:\n",
    "        even = even + 1\n",
    "        \n",
    "    if list1[i] % 2 == 1:\n",
    "        odd = odd + 1\n",
    "        \n",
    "    i += 1\n",
    "        \n",
    "print(even, odd)"
   ]
  },
  {
   "cell_type": "code",
   "execution_count": 3,
   "metadata": {},
   "outputs": [
    {
     "name": "stdout",
     "output_type": "stream",
     "text": [
      "3 4\n"
     ]
    }
   ],
   "source": [
    "# using lamda expression\n",
    "\n",
    "list1 = [10, 21, 4, 45, 66, 93, 11]\n",
    "\n",
    "odd_count = len(list(filter(lambda x: (x % 2 != 0), list1)))\n",
    "\n",
    "even_count = len(list(filter(lambda x: ( x % 2 == 0), list1)))\n",
    "\n",
    "print(even_count, odd_count)"
   ]
  },
  {
   "cell_type": "code",
   "execution_count": 2,
   "metadata": {},
   "outputs": [
    {
     "name": "stdout",
     "output_type": "stream",
     "text": [
      "even numbers in a list 3\n",
      "odd numbers in list 4\n"
     ]
    }
   ],
   "source": [
    "# using list comprehension\n",
    "\n",
    "list1 = [10, 21, 4, 45, 66, 93, 11]\n",
    "\n",
    "only_odd = [num for num in list1 if num % 2 == 1]\n",
    "\n",
    "odd_count = len(only_odd)\n",
    "\n",
    "print(\"even numbers in a list\", len(list1) - odd_count)\n",
    "\n",
    "print(\"odd numbers in list\", odd_count)"
   ]
  },
  {
   "cell_type": "code",
   "execution_count": 1,
   "metadata": {},
   "outputs": [
    {
     "name": "stdout",
     "output_type": "stream",
     "text": [
      "10 23 33 44 "
     ]
    }
   ],
   "source": [
    "# program to print positive numbers in a list\n",
    "\n",
    "list1 = [10, 23, 33, 44, -2, -23]\n",
    "\n",
    "for num in list1:\n",
    "    \n",
    "    if num > 0:\n",
    "        print(num, end = \" \")"
   ]
  },
  {
   "cell_type": "code",
   "execution_count": 5,
   "metadata": {},
   "outputs": [
    {
     "name": "stdout",
     "output_type": "stream",
     "text": [
      "10 22 33 4 44 "
     ]
    }
   ],
   "source": [
    "# using while loop\n",
    "\n",
    "list1 = [10, 22, 33, 4, 44, -4, -7]\n",
    "num = 0\n",
    "\n",
    "while (num < len(list1)):\n",
    "    \n",
    "    if list1[num] >= 0:\n",
    "        print(list1[num], end = \" \")\n",
    "    \n",
    "    num += 1"
   ]
  },
  {
   "cell_type": "code",
   "execution_count": 6,
   "metadata": {},
   "outputs": [
    {
     "name": "stdout",
     "output_type": "stream",
     "text": [
      "[10, 22, 33, 4, 44]\n"
     ]
    }
   ],
   "source": [
    "# using list comprehension\n",
    "\n",
    "list1 = [10, 22, 33, 4, 44, -4, -7]\n",
    "num = 0\n",
    "\n",
    "pos = [num for num in list1 if num > 0 ]\n",
    "\n",
    "print(pos)"
   ]
  },
  {
   "cell_type": "code",
   "execution_count": 7,
   "metadata": {},
   "outputs": [
    {
     "name": "stdout",
     "output_type": "stream",
     "text": [
      "[10, 22, 33, 4, 44]\n"
     ]
    }
   ],
   "source": [
    "# using lambda expression\n",
    "\n",
    "list1 = [10, 22, 33, 4, 44, -4, -7]\n",
    "num = 0\n",
    "\n",
    "pos = list(filter(lambda x :(x >= 0), list1))\n",
    "\n",
    "print(pos)"
   ]
  },
  {
   "cell_type": "code",
   "execution_count": 10,
   "metadata": {},
   "outputs": [
    {
     "name": "stdout",
     "output_type": "stream",
     "text": [
      "-4 -7 "
     ]
    }
   ],
   "source": [
    "# program to print negative numbers in a list\n",
    "\n",
    "list1 = [10, 22, 33, 4, 44, -4, -7]\n",
    "num = 0\n",
    "\n",
    "for num in list1:\n",
    "    if num <= 0:\n",
    "        print(num, end = \" \")\n",
    "        "
   ]
  },
  {
   "cell_type": "code",
   "execution_count": 3,
   "metadata": {},
   "outputs": [
    {
     "name": "stdout",
     "output_type": "stream",
     "text": [
      "-4 -7 "
     ]
    }
   ],
   "source": [
    "# using while loop\n",
    "\n",
    "list1 = [10, 22, 33, 4, 44, -4, -7]\n",
    "num = 0\n",
    "\n",
    "while num < len(list1):\n",
    "    if list1[num] <= 0:\n",
    "        print(list1[num], end = \" \")\n",
    "        \n",
    "    num += 1"
   ]
  },
  {
   "cell_type": "code",
   "execution_count": 2,
   "metadata": {},
   "outputs": [
    {
     "name": "stdout",
     "output_type": "stream",
     "text": [
      "[-4, -7]\n"
     ]
    }
   ],
   "source": [
    "# using list comprehension\n",
    "\n",
    "list1 = [10, 22, 33, 4, 44, -4, -7]\n",
    "num = 0\n",
    "\n",
    "neg = [num for num in list1 if num <= 0 ]\n",
    "\n",
    "print(neg)"
   ]
  },
  {
   "cell_type": "code",
   "execution_count": 1,
   "metadata": {},
   "outputs": [
    {
     "name": "stdout",
     "output_type": "stream",
     "text": [
      "[-4, -7]\n"
     ]
    }
   ],
   "source": [
    "# using lambda expression\n",
    "\n",
    "list1 = [10, 22, 33, 4, 44, -4, -7]\n",
    "num = 0\n",
    "\n",
    "neg = list(filter(lambda num: (num <= 0 ), list1))\n",
    "\n",
    "print(neg)"
   ]
  },
  {
   "cell_type": "code",
   "execution_count": 5,
   "metadata": {},
   "outputs": [
    {
     "name": "stdout",
     "output_type": "stream",
     "text": [
      "0 1 2 3 4 "
     ]
    }
   ],
   "source": [
    "# program to print all positive numbers in a range\n",
    "\n",
    "start = -4\n",
    "end = 5\n",
    "\n",
    "for num in range(start, end):\n",
    "    \n",
    "    if num >= 0:\n",
    "        print(num, end = \" \")"
   ]
  },
  {
   "cell_type": "code",
   "execution_count": 7,
   "metadata": {},
   "outputs": [
    {
     "name": "stdin",
     "output_type": "stream",
     "text": [
      "enter start -5\n",
      "enter end 5\n"
     ]
    },
    {
     "name": "stdout",
     "output_type": "stream",
     "text": [
      "0 1 2 3 4 "
     ]
    }
   ],
   "source": [
    "# taking range limit from user\n",
    "\n",
    "start = int(input(\"enter start\"))\n",
    "end = int(input(\"enter end\"))\n",
    "\n",
    "for num in range(start, end):\n",
    "    \n",
    "    if num >= 0:\n",
    "        print(num, end = \" \")\n",
    "        \n",
    "        "
   ]
  },
  {
   "cell_type": "code",
   "execution_count": 9,
   "metadata": {},
   "outputs": [
    {
     "name": "stdout",
     "output_type": "stream",
     "text": [
      "-5 -4 -3 -2 -1 0 "
     ]
    }
   ],
   "source": [
    "# program to print negative numbers in a range\n",
    "\n",
    "start = -5\n",
    "end = 4\n",
    "\n",
    "for num in range(start, end):\n",
    "    \n",
    "    if num <= 0:\n",
    "        print(num, end = \" \")"
   ]
  },
  {
   "cell_type": "code",
   "execution_count": 4,
   "metadata": {},
   "outputs": [
    {
     "name": "stdin",
     "output_type": "stream",
     "text": [
      "enetr start -3\n",
      "enter end 3\n"
     ]
    },
    {
     "name": "stdout",
     "output_type": "stream",
     "text": [
      "-3 -2 -1 0 "
     ]
    }
   ],
   "source": [
    "# taking input from user\n",
    "\n",
    "start = int(input(\"enetr start\"))\n",
    "end = int(input(\"enter end\"))\n",
    "\n",
    "for num in range(start, end):\n",
    "    \n",
    "    if num <= 0:\n",
    "        print(num, end = \" \")"
   ]
  },
  {
   "cell_type": "code",
   "execution_count": 3,
   "metadata": {},
   "outputs": [
    {
     "name": "stdout",
     "output_type": "stream",
     "text": [
      "2 3\n"
     ]
    }
   ],
   "source": [
    "# program to count positive and negative numbers in a list\n",
    "\n",
    "list1 = [2, -7, 5, -64, -14]\n",
    "pos = 0\n",
    "neg = 0\n",
    "\n",
    "for i in list1:\n",
    "    \n",
    "    if i >= 0:\n",
    "        pos += 1\n",
    "    \n",
    "    if i <= 0:\n",
    "        neg += 1\n",
    "        \n",
    "    \n",
    "    \n",
    "print(pos, neg)\n",
    "    "
   ]
  },
  {
   "cell_type": "code",
   "execution_count": 4,
   "metadata": {},
   "outputs": [
    {
     "name": "stdout",
     "output_type": "stream",
     "text": [
      "2 3\n"
     ]
    }
   ],
   "source": [
    "# using while loop\n",
    "\n",
    "list1 = [2, -7, 5, -64, -14]\n",
    "pos = 0\n",
    "neg = 0\n",
    "num = 0\n",
    "\n",
    "while num < len(list1):\n",
    "    \n",
    "    if  list1[num] >= 0:\n",
    "        pos += 1\n",
    "    else:\n",
    "        neg += 1\n",
    "        \n",
    "    num += 1\n",
    "        \n",
    "print(pos, neg)"
   ]
  },
  {
   "cell_type": "code",
   "execution_count": 5,
   "metadata": {},
   "outputs": [
    {
     "name": "stdout",
     "output_type": "stream",
     "text": [
      "2\n",
      "3\n"
     ]
    }
   ],
   "source": [
    "# using lambda expression\n",
    "\n",
    "list1 = [2, -7, 5, -64, -14]\n",
    "pos = 0\n",
    "neg = 0\n",
    "\n",
    "pos = len(list(filter(lambda x: (x >= 0),list1)))\n",
    "\n",
    "neg = len(list(filter(lambda x: (x <= 0),list1)))\n",
    "\n",
    "print(pos)\n",
    "print(neg)"
   ]
  },
  {
   "cell_type": "code",
   "execution_count": 7,
   "metadata": {},
   "outputs": [
    {
     "name": "stdout",
     "output_type": "stream",
     "text": [
      "2\n",
      "3\n"
     ]
    }
   ],
   "source": [
    "list1 = [2, -7, 5, -64, -14]\n",
    "pos = 0\n",
    "neg = 0\n",
    "\n",
    "pos = [num for num in list1 if num >= 0 ]\n",
    "pos_count = (len(pos))\n",
    "\n",
    "# neg = [num for num in list1 if num <= 0 ]\n",
    "# neg_count = (len(neg))\n",
    "\n",
    "neg_count = len(list1) - pos_count\n",
    "\n",
    "print(pos_count)\n",
    "print(neg_count)\n"
   ]
  },
  {
   "cell_type": "code",
   "execution_count": 8,
   "metadata": {},
   "outputs": [
    {
     "name": "stdout",
     "output_type": "stream",
     "text": [
      "[15, 3]\n"
     ]
    }
   ],
   "source": [
    "# remove multiple elemnts from a list in python\n",
    "\n",
    "list1 = [12, 15, 3, 10]\n",
    "\n",
    "for ele in list1:\n",
    "    if ele % 2 == 0:\n",
    "        list1.remove(ele)\n",
    "        \n",
    "print(list1)"
   ]
  },
  {
   "cell_type": "code",
   "execution_count": 9,
   "metadata": {},
   "outputs": [
    {
     "name": "stdout",
     "output_type": "stream",
     "text": [
      "[15, 3]\n"
     ]
    }
   ],
   "source": [
    "# using list comprehension\n",
    "\n",
    "list1 = [12, 15, 3, 10]\n",
    "\n",
    "ele = [num for num in list1 if num % 2 != 0]\n",
    "\n",
    "print(ele)"
   ]
  },
  {
   "cell_type": "code",
   "execution_count": 10,
   "metadata": {},
   "outputs": [
    {
     "name": "stdout",
     "output_type": "stream",
     "text": [
      "[12, 10]\n"
     ]
    }
   ],
   "source": [
    "# using list slicing\n",
    "\n",
    "list1 = [12, 15, 3, 10]\n",
    "\n",
    "del list1[1:3]\n",
    "\n",
    "print(list1)"
   ]
  },
  {
   "cell_type": "code",
   "execution_count": 11,
   "metadata": {},
   "outputs": [
    {
     "name": "stdout",
     "output_type": "stream",
     "text": [
      "[3, 10]\n"
     ]
    }
   ],
   "source": [
    "# using list comprehension\n",
    "\n",
    "list1 = [12, 15, 3, 10]\n",
    "\n",
    "unwanted_num = [12, 15]\n",
    "\n",
    "list1 = [num for num in list1 if num not in unwanted_num]\n",
    "\n",
    "print(list1)"
   ]
  },
  {
   "cell_type": "code",
   "execution_count": 20,
   "metadata": {},
   "outputs": [
    {
     "name": "stdout",
     "output_type": "stream",
     "text": [
      "[5, 50, 17]\n"
     ]
    }
   ],
   "source": [
    "# when index of element is known\n",
    "\n",
    "list1 = [11, 5, 50, 18, 23, 17]\n",
    "\n",
    "unwanted = [0, 3, 4]\n",
    "\n",
    "for ele in sorted(unwanted, reverse = True):\n",
    "    del list1[ele]\n",
    "    \n",
    "print(list1)"
   ]
  },
  {
   "cell_type": "code",
   "execution_count": 27,
   "metadata": {},
   "outputs": [
    {
     "name": "stdout",
     "output_type": "stream",
     "text": [
      "[('ram', '15', '8'), ('laxman', 'sita'), ('krishan', 'akbar', '45'), ('', '')]\n"
     ]
    }
   ],
   "source": [
    "# remove empty tuples from a list\n",
    "# using list comprehension\n",
    "\n",
    "def Remove(tuples):\n",
    "    \n",
    "    tuples = [ _ for _ in tuples if _]\n",
    "    return tuples\n",
    "\n",
    "tuples = [ (), ('ram', '15', '8'), (), ('laxman', 'sita'), \n",
    "         ('krishan', 'akbar', '45'), ('', ''), ()]\n",
    "\n",
    "print(Remove(tuples))"
   ]
  },
  {
   "cell_type": "code",
   "execution_count": 32,
   "metadata": {},
   "outputs": [
    {
     "name": "stdout",
     "output_type": "stream",
     "text": [
      "[20, 30, -20, 60]\n"
     ]
    }
   ],
   "source": [
    "# program to print duplicates from a list of integers\n",
    "\n",
    "def Repeat(x):\n",
    "    \n",
    "    size = len(x)\n",
    "    repeated = []\n",
    "    \n",
    "    for i in range(size):\n",
    "        k = i + 1\n",
    "        \n",
    "        for j in range(k, size):\n",
    "            if x[i] == x[j] and x[i] not in repeated:\n",
    "                repeated.append(x[i])\n",
    "                \n",
    "    return repeated\n",
    "    \n",
    "list1 = [10, 20, 30, 20, 20, 30, 40,\n",
    "        50, -20, 60, 60, -20, -20]\n",
    "            \n",
    "print(Repeat(list1))\n",
    "    "
   ]
  },
  {
   "cell_type": "code",
   "execution_count": 34,
   "metadata": {},
   "outputs": [
    {
     "name": "stdout",
     "output_type": "stream",
     "text": [
      "[20, 30, -20, 60]\n"
     ]
    }
   ],
   "source": [
    "def Repeated(x):\n",
    "    \n",
    "    size = len(x)\n",
    "    repeated = []\n",
    "    \n",
    "    for i in range(size):\n",
    "        k = i + 1\n",
    "        \n",
    "        for j in range(k, size):\n",
    "            if x[i] == x[j] and x[i] not in repeated:\n",
    "                repeated.append(x[i])\n",
    "            \n",
    "    return repeated\n",
    "\n",
    "list1 = [10, 20, 30, 20, 20, 30, 40,\n",
    "        50, -20, 60, 60, -20, -20]\n",
    "            \n",
    "print(Repeat(list1))"
   ]
  },
  {
   "cell_type": "code",
   "execution_count": 35,
   "metadata": {},
   "outputs": [
    {
     "name": "stdout",
     "output_type": "stream",
     "text": [
      "[20, 30, -20, 60]\n"
     ]
    }
   ],
   "source": [
    "def repeat(x):\n",
    "    \n",
    "    repeated = []\n",
    "    size = len(x)\n",
    "    \n",
    "    for i in range(size):\n",
    "        k = i + 1\n",
    "        \n",
    "        for j in range(k, size):\n",
    "            if x[i] == x[j] and x[i] not in repeated:\n",
    "                repeated.append(x[i])\n",
    "            \n",
    "    return repeated\n",
    "\n",
    "list1 = [10, 20, 30, 20, 20, 30, 40,\n",
    "        50, -20, 60, 60, -20, -20]\n",
    "            \n",
    "print(Repeat(list1))"
   ]
  },
  {
   "cell_type": "code",
   "execution_count": 53,
   "metadata": {},
   "outputs": [
    {
     "name": "stdout",
     "output_type": "stream",
     "text": [
      "[[1, 2, 3, 4], [5, 6, 7, 8], [9]]\n"
     ]
    }
   ],
   "source": [
    "# using list comprehension\n",
    "\n",
    "my_list = [1, 2, 3, 4, 5, 6, 7, 8, 9]\n",
    "n = 4\n",
    "\n",
    "final = [my_list[i * n:(i + 1) * n] for i in range((len(my_list) + n - 1) // n )      ]  \n",
    "print(final)"
   ]
  },
  {
   "cell_type": "code",
   "execution_count": 57,
   "metadata": {},
   "outputs": [
    {
     "name": "stdout",
     "output_type": "stream",
     "text": [
      "[['geeks', 'for', 'geeks', 'like', 'geeky'], ['nerdy', 'geek', 'love', 'questions', 'words'], ['life']]\n"
     ]
    }
   ],
   "source": [
    "def divide_chunks(list1, n):\n",
    "    \n",
    "    for i in range(0, len(list1), n):\n",
    "        yield list1[i: i + n]\n",
    "        # yield enables a function to come back where it had left off\n",
    "n = 5\n",
    "\n",
    "list1 = ['geeks', 'for', 'geeks', 'like', \n",
    "           'geeky','nerdy', 'geek', 'love', \n",
    "               'questions','words', 'life']\n",
    "x = list(divide_chunks(list1, n))\n",
    "print(x)"
   ]
  },
  {
   "cell_type": "code",
   "execution_count": 63,
   "metadata": {},
   "outputs": [
    {
     "name": "stdout",
     "output_type": "stream",
     "text": [
      "['a', 'd', 'h', 'b', 'c', 'e', 'i', 'f', 'g']\n",
      "['g', 'k', 'r', 'e', 'e', 'g', 's', 'f', 'o']\n"
     ]
    }
   ],
   "source": [
    "#program to sort values of first list using second list\n",
    "\n",
    "def sort_list(list1, list2):\n",
    "    \n",
    "    zipped_pairs = zip(list2, list1)\n",
    "    \n",
    "    z = [x for _, x in sorted(zipped_pairs)]\n",
    "    \n",
    "    return z\n",
    "    \n",
    "x = [\"a\", \"b\", \"c\", \"d\", \"e\", \"f\", \"g\", \"h\", \"i\"] \n",
    "y = [ 0,   1,   1,    0,   1,   2,   2,   0,   1] \n",
    "  \n",
    "print(sort_list(x, y)) \n",
    "\n",
    "\n",
    "x = [\"g\", \"e\", \"e\", \"k\", \"s\", \"f\", \"o\", \"r\", \"g\", \"e\", \"e\", \"k\", \"s\"] \n",
    "y = [ 0,   1,   1,    0,   1,   2,   2,   0,   1] \n",
    "  \n",
    "print(sort_list(x, y)) \n"
   ]
  },
  {
   "cell_type": "code",
   "execution_count": null,
   "metadata": {},
   "outputs": [],
   "source": []
  }
 ],
 "metadata": {
  "kernelspec": {
   "display_name": "Python 3",
   "language": "python",
   "name": "python3"
  },
  "language_info": {
   "codemirror_mode": {
    "name": "ipython",
    "version": 3
   },
   "file_extension": ".py",
   "mimetype": "text/x-python",
   "name": "python",
   "nbconvert_exporter": "python",
   "pygments_lexer": "ipython3",
   "version": "3.6.8"
  }
 },
 "nbformat": 4,
 "nbformat_minor": 2
}
